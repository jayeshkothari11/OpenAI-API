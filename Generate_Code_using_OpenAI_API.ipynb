{
  "nbformat": 4,
  "nbformat_minor": 0,
  "metadata": {
    "colab": {
      "provenance": [],
      "authorship_tag": "ABX9TyP3Gss7QRlQA6gORDveiheG",
      "include_colab_link": true
    },
    "kernelspec": {
      "name": "python3",
      "display_name": "Python 3"
    },
    "language_info": {
      "name": "python"
    }
  },
  "cells": [
    {
      "cell_type": "markdown",
      "metadata": {
        "id": "view-in-github",
        "colab_type": "text"
      },
      "source": [
        "<a href=\"https://colab.research.google.com/github/jayeshkothari11/OpenAI-API/blob/main/Generate_Code_using_OpenAI_API.ipynb\" target=\"_parent\"><img src=\"https://colab.research.google.com/assets/colab-badge.svg\" alt=\"Open In Colab\"/></a>"
      ]
    },
    {
      "cell_type": "markdown",
      "source": [
        "Install the needed Module"
      ],
      "metadata": {
        "id": "JYaEegGN4OZK"
      }
    },
    {
      "cell_type": "code",
      "source": [
        "\n",
        "!pip install openai==0.28 python-dotenv\n"
      ],
      "metadata": {
        "id": "2YsS_ONi33CT"
      },
      "execution_count": null,
      "outputs": []
    },
    {
      "cell_type": "markdown",
      "source": [
        "Importing the modules"
      ],
      "metadata": {
        "id": "rIrPEwLJ4drE"
      }
    },
    {
      "cell_type": "code",
      "source": [
        "import pandas as pd\n",
        "import numpy as np\n",
        "import os\n",
        "import openai\n",
        "from dotenv import load_dotenv\n",
        "import json\n",
        "import re\n",
        "from google.colab import files"
      ],
      "metadata": {
        "id": "_lLvTamw4bBH"
      },
      "execution_count": null,
      "outputs": []
    },
    {
      "cell_type": "markdown",
      "source": [
        "Setting up the OpenAI API:\n",
        "\n",
        "1. Prepare a `.env` file to store the OpenAI API key.\n",
        "2. Uploading the `.env` file to our colab environment\n",
        "3. Load the API key and setup the API"
      ],
      "metadata": {
        "id": "oCaA7oMq5PrI"
      }
    },
    {
      "cell_type": "code",
      "source": [
        "uploaded = files.upload()"
      ],
      "metadata": {
        "id": "dEWg43YX5V5s"
      },
      "execution_count": null,
      "outputs": []
    },
    {
      "cell_type": "markdown",
      "source": [
        "Loading environment variables and get the API key"
      ],
      "metadata": {
        "id": "_maOvY_X5zFN"
      }
    },
    {
      "cell_type": "code",
      "source": [
        "load_dotenv(dotenv_path=\"apikey.env.txt\")\n",
        "\n",
        "APIKEY = os.getenv(\"APIKEY\")\n",
        "\n"
      ],
      "metadata": {
        "id": "FQyBfniX52NK"
      },
      "execution_count": null,
      "outputs": []
    },
    {
      "cell_type": "markdown",
      "source": [
        "Setting up our OpenAI API"
      ],
      "metadata": {
        "id": "nSiQHezF6Yr9"
      }
    },
    {
      "cell_type": "code",
      "source": [
        "openai.api_key = APIKEY\n"
      ],
      "metadata": {
        "id": "BnLLz3Nf6bac"
      },
      "execution_count": null,
      "outputs": []
    },
    {
      "cell_type": "markdown",
      "source": [
        "To communicate with the API we need to learn how to craft a prompt.\n",
        "\n",
        "A prompt object contains two elements:\n",
        "1. Role: Specifies the communicator's role—either `User`, `System`, or `Assistant`.\n",
        "2. Content: Contains the text of the communication\n",
        "\n",
        "example:\n",
        "`prompt = {'role': 'user', 'content': 'what is the captial of Italy?'}`\n",
        "\n",
        "Different Roles:\n",
        "\n",
        "- **User**: Initiates the conversation, asks questions, and gives instructions to - the AI model.\n",
        "- **System**: Sets the initial context or instructions for the conversation, guiding the AI's behavior.\n",
        "- **Assistant**: Generates responses based on the user's queries and the context provided by the system, acting as the AI model's replies.\n",
        "\n",
        "User initiates the conversation, system provides context, and assistant generates responses.\n"
      ],
      "metadata": {
        "id": "nDyx4-2Z7dit"
      }
    },
    {
      "cell_type": "code",
      "source": [
        "user = {'role': 'user', 'content':'How many countries are there in Europe'}\n",
        "response = openai.ChatCompletion.create(\n",
        " model = 'gpt-3.5-turbo',\n",
        " messages = [user],\n",
        " max_tokens = 5\n",
        ")\n",
        "print(response)"
      ],
      "metadata": {
        "id": "ja4RzPCW7etP"
      },
      "execution_count": null,
      "outputs": []
    },
    {
      "cell_type": "code",
      "source": [
        "user = {'role': 'user', 'content':'How many countries are there in Europe'}\n",
        "response = openai.ChatCompletion.create(\n",
        " model = 'gpt-3.5-turbo',\n",
        " messages = [user],\n",
        " max_tokens = 5\n",
        ")\n",
        "content = response.choices[0].message.content\n",
        "print(content)"
      ],
      "metadata": {
        "id": "d64afN9bYzBf"
      },
      "execution_count": null,
      "outputs": []
    },
    {
      "cell_type": "markdown",
      "source": [
        "Adding a context with \"System\" Role"
      ],
      "metadata": {
        "id": "kmw28XE2ByL7"
      }
    },
    {
      "cell_type": "code",
      "source": [
        "user = {'role': 'user', 'content':'How many countries are there in Europe'}\n",
        "system = {'role':'system','content':'You are a Geography teacher, provide user with details of countries that are in Central Europe'}\n",
        "response = openai.ChatCompletion.create(\n",
        " model = 'gpt-3.5-turbo',\n",
        " messages = [system,user],\n",
        " max_tokens = 200\n",
        ")\n",
        "content = response.choices[0].message.content\n",
        "print(content)"
      ],
      "metadata": {
        "id": "Cw6WAZIEapJy"
      },
      "execution_count": null,
      "outputs": []
    },
    {
      "cell_type": "markdown",
      "source": [
        "Lets Generate & Execute Python Code using OpenAI-API"
      ],
      "metadata": {
        "id": "FHIqt2KyakdN"
      }
    },
    {
      "cell_type": "code",
      "source": [
        "# Defining a function to generate chat reponse using the OpenAI GPT-3.5-turbo model. System & User Message as Input\n",
        "def generate_chat_response(system_content,user_content):\n",
        "  # Create two message dictionaries, for system & user\n",
        "  system = {'role':'system', 'content': system_content}\n",
        "  user = {'role':'user', 'content' : user_content}\n",
        "  response = openai.ChatCompletion.create (\n",
        "      model = 'gpt-3.5-turbo',\n",
        "      messages=[system,user], # List of messages (system & user)\n",
        "      max_tokens = 1000  # limiting number of tokens in Response\n",
        "  )\n",
        "  return response"
      ],
      "metadata": {
        "id": "Qq8dLpa-asoX"
      },
      "execution_count": null,
      "outputs": []
    },
    {
      "cell_type": "markdown",
      "source": [
        "Crafting a prompt to generate a simple python method"
      ],
      "metadata": {
        "id": "XV2PrmJCcvmV"
      }
    },
    {
      "cell_type": "code",
      "source": [
        "system_content = \"As a Python Developer, you will generate python code to solve given problem & provide solution. Please return only the code\"\n",
        "user_content = \"Write a python method to calculate factorial of a given number\"\n",
        "\n",
        "response = generate_chat_response(system_content, user_content)\n",
        "content = response.choices[0].message.content\n",
        "print(content)"
      ],
      "metadata": {
        "id": "ucQ3OsuTcr7h"
      },
      "execution_count": null,
      "outputs": []
    },
    {
      "cell_type": "markdown",
      "source": [
        "Execute the generated code"
      ],
      "metadata": {
        "id": "Ra7dx5vDd8Xe"
      }
    },
    {
      "cell_type": "code",
      "source": [
        "code = content\n",
        "#print(code)\n",
        "exec(code)\n",
        "factorial(4)"
      ],
      "metadata": {
        "id": "POQCvNbfeKPq"
      },
      "execution_count": null,
      "outputs": []
    }
  ]
}